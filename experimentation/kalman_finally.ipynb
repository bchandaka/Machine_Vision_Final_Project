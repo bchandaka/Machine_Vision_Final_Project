{
 "cells": [
  {
   "cell_type": "code",
   "execution_count": 1,
   "metadata": {},
   "outputs": [],
   "source": [
    "import numpy as np\n",
    "from numpy.linalg import inv\n",
    "import matplotlib.pyplot as plt\n",
    "import pykitti\n",
    "from scipy.spatial.transform import Rotation as R\n",
    "from scipy import signal\n",
    "from scipy.signal import lfilter\n",
    "import sys\n",
    "sys.path.append('../')\n",
    "from vo_funcs import VisualOdometry\n",
    "from tqdm import tqdm\n",
    "DATA_DIR = '../data' \n",
    "degree = 30\n",
    "R_oxts_cam = np.array(R.from_euler('z', degree, degrees=True).as_matrix())\n",
    "%matplotlib inline"
   ]
  },
  {
   "cell_type": "code",
   "execution_count": 2,
   "metadata": {},
   "outputs": [],
   "source": [
    "def load_data(date, drive):\n",
    "    data = pykitti.raw(DATA_DIR, date, drive)\n",
    "    return data"
   ]
  },
  {
   "cell_type": "code",
   "execution_count": 3,
   "metadata": {},
   "outputs": [
    {
     "data": {
      "image/png": "[encoded data removed]",
      "text/plain": [
       "<Figure size 432x288 with 1 Axes>"
      ]
     },
     "metadata": {
      "needs_background": "light"
     },
     "output_type": "display_data"
    }
   ],
   "source": [
    "data = load_data('2011_10_03', '0027')\n",
    "# data = load_data('2011_09_26', '0001')\n",
    "x, y, z = [], [], []\n",
    "x_imu = []\n",
    "y_imu = []\n",
    "dt = 0.1\n",
    "R, t_start = pykitti.utils.pose_from_oxts_packet(data.oxts[0].packet, scale=1)\n",
    "# t_start = R_oxts_cam @ t_start\n",
    "for i in range(len(data.timestamps)):\n",
    "    R, t = pykitti.utils.pose_from_oxts_packet(data.oxts[i].packet, scale=1)\n",
    "    t -= t_start\n",
    "    t = R_oxts_cam @ t\n",
    "    x_vel = data.oxts[i].packet.ve\n",
    "    y_vel = data.oxts[i].packet.vn\n",
    "    x_vel, y_vel, z_vel = R_oxts_cam @ np.array([x_vel, y_vel, 0])\n",
    "    x_acc = data.oxts[i].packet.ax\n",
    "    y_acc = data.oxts[i].packet.ay\n",
    "    # print(t)\n",
    "    if len(x_imu) == 0:\n",
    "        x_imu.append(0)\n",
    "        y_imu.append(0)\n",
    "    else:\n",
    "        x_imu.append(t[0]+x_vel*dt) #+0.5*x_acc*dt**2)\n",
    "        y_imu.append(t[1]+y_vel*dt) #+0.5*y_acc*dt**2)\n",
    "        # x_imu.append(x_imu[i-1]+0.5*x_acc*dt**2)\n",
    "        # y_imu.append(y_imu[i-1]+0.5*y_acc*dt**2)\n",
    "    x.append(t[0])\n",
    "    y.append(t[1])\n",
    "    z.append(t[2])\n",
    "# plt.axes(projection='3d')\n",
    "# plt.plot(x[:50])\n",
    "# plt.plot(x_imu[:200], y_imu[:200])\n",
    "plt.plot(x, y)\n",
    "plt.plot(x_imu, y_imu)\n",
    "plt.show()"
   ]
  },
  {
   "cell_type": "code",
   "execution_count": 4,
   "metadata": {},
   "outputs": [
    {
     "name": "stdout",
     "output_type": "stream",
     "text": [
      "4544\n",
      "4544\n"
     ]
    }
   ],
   "source": [
    "print(len(data.oxts))\n",
    "print(len(data.cam0_files))"
   ]
  },
  {
   "cell_type": "code",
   "execution_count": 5,
   "metadata": {},
   "outputs": [
    {
     "name": "stdout",
     "output_type": "stream",
     "text": [
      "[5.91181523139241, 5.99993947855496, 6.0880637257175, 6.17618797288005, 6.2643122200426, 6.35243646720515, 6.4405607143677, 6.52868496153025, 6.6168092086928, 6.70493345585535]\n"
     ]
    }
   ],
   "source": [
    "print([ i.packet.vn for i in data.oxts[:10]])"
   ]
  },
  {
   "cell_type": "code",
   "execution_count": 6,
   "metadata": {},
   "outputs": [
    {
     "name": "stdout",
     "output_type": "stream",
     "text": [
      "[-0.05440029 -0.05440036 -0.05440044 -0.05440051 -0.05440059 -0.05440066\n",
      " -0.05440074 -0.05440081 -0.05440088]\n"
     ]
    }
   ],
   "source": [
    "print(np.array(x[1:10])-np.array(x[:9]))"
   ]
  },
  {
   "cell_type": "code",
   "execution_count": 7,
   "metadata": {},
   "outputs": [
    {
     "name": "stdout",
     "output_type": "stream",
     "text": [
      "[1.3026404235734301, 1.2818228622644852, 1.2610053009555402, 1.2401877396465952, 1.21937017833765, 1.198552617028705, 1.1777350557197601, 1.1569174944108152, 1.13609993310187, 1.115282371792925]\n"
     ]
    }
   ],
   "source": [
    "print([ i.packet.au*0.1 for i in data.oxts[:10]])"
   ]
  },
  {
   "cell_type": "code",
   "execution_count": 54,
   "metadata": {},
   "outputs": [],
   "source": [
    "class SensorFusion():\n",
    "    def __init__(self, start_state, data: pykitti.raw, cutout_region=list(range(80,150)), use_smoothing=False):\n",
    "        # Input Data\n",
    "        self.data = data\n",
    "        _, self.t_start = pykitti.utils.pose_from_oxts_packet(data.oxts[0].packet, scale=1)\n",
    "        self.vo = VisualOdometry(data)\n",
    "\n",
    "        # Kalman States\n",
    "        self.state = start_state\n",
    "        self.pred_state = start_state\n",
    "\n",
    "        # Simulation cutout\n",
    "        self.cutout_region = cutout_region\n",
    "        self.cutout_var = 10\n",
    "        # History info\n",
    "        self.pose_est = [self.state]\n",
    "        self.pose_gt = [self.getGPS(0)]\n",
    "        self.pose_gt_w_cutout = [self.getGPS(0)[:2]]\n",
    "        self.pose_vo = [self.getGPS(0)]\n",
    "        self.K_hist = []\n",
    "\n",
    "        # Setting up smoothing\n",
    "        self.use_smoothing = use_smoothing\n",
    "        self.define_lfilter_vals()\n",
    "        \n",
    "    def getOXTSMeasurement(self, index, H):\n",
    "        t = self.getGPS(index)\n",
    "\n",
    "        x, y, z = t[:3]\n",
    "        x_vel = self.data.oxts[index].packet.ve\n",
    "        y_vel = self.data.oxts[index].packet.vn\n",
    "        z_vel = self.data.oxts[index].packet.vu\n",
    "        x_vel, y_vel, z_vel = R_oxts_cam @ np.array([x_vel, y_vel, z_vel])\n",
    "        # print(\"OXTS vel\", x_vel)\n",
    "        pos_uncertainty = self.data.oxts[index].packet.pos_accuracy\n",
    "        vel_uncertainty = self.data.oxts[index].packet.vel_accuracy\n",
    "\n",
    "        if index in self.cutout_region:\n",
    "            pos_uncertainty = self.cutout_var # meters\n",
    "            x = x + np.random.normal(0, pos_uncertainty)\n",
    "            y = y + np.random.normal(0, pos_uncertainty)\n",
    "        \n",
    "        R = np.diag([pos_uncertainty**2, pos_uncertainty**2, vel_uncertainty**2, vel_uncertainty**2])\n",
    "\n",
    "        return H @ np.array([x, y, x_vel, y_vel]), R\n",
    "\n",
    "    def getGPS(self, index):\n",
    "        R, t = pykitti.utils.pose_from_oxts_packet(self.data.oxts[index].packet, scale=1)\n",
    "        t -= self.t_start\n",
    "        t = R_oxts_cam @ t\n",
    "        return t\n",
    "\n",
    "    def setCutout(self, startInd, endInd):\n",
    "        self.cutout_region = list(range(startInd, endInd))\n",
    "\n",
    "    def setCutoutVar(self, var):\n",
    "        self.cutout_var = var\n",
    "\n",
    "    # ---Smoothing---\n",
    "    def define_lfilter_vals(self):\n",
    "        self.lfilter_b = [signal.firwin(8, 0.004), signal.firwin(8, 0.004)]\n",
    "        self.lfilter_z = [np.zeros(self.lfilter_b[0].size-1), np.zeros(self.lfilter_b[1].size-1)]\n",
    "\n",
    "    def get_smoothed_est(self, x, i):\n",
    "        new_x, self.lfilter_z[0] = signal.lfilter(self.lfilter_b[0], 1, [x[0]], zi=self.lfilter_z[0])\n",
    "        new_y, self.lfilter_z[1] = signal.lfilter(self.lfilter_b[1], 1, [x[1]], zi=self.lfilter_z[1])\n",
    "        # if i in self.cutout_region:\n",
    "        if len(self.pose_est) > self.lfilter_b[0].size:\n",
    "            x[0] = new_x\n",
    "            x[1] = new_y\n",
    "        return x\n",
    "\n",
    "    # ---Kalman Filter---\n",
    "    def predict(self, A, B, u, P, Q):\n",
    "        predicted_X = A @ self.state + B @ u\n",
    "        predicted_P = A @ P @ A.T + Q\n",
    "        return predicted_X, predicted_P\n",
    "\n",
    "    def calc_gain(self, P, H, R):\n",
    "        numerator = P@H.T\n",
    "        denominator = H@P@H.T + R\n",
    "        K = numerator/denominator\n",
    "        # print(K)\n",
    "        K = np.diag(np.diag(K))\n",
    "        # K[0,1] = 0\n",
    "        # K[1,0] = 0\n",
    "        return K\n",
    "\n",
    "    def update(self, K, z, H, P):\n",
    "        # print(K)\n",
    "        updated_X = self.pred_state + K @ (z - H@self.pred_state)\n",
    "        n = len(K@H)\n",
    "        updated_P = (np.eye(n)-K@H)@P\n",
    "        return updated_X, updated_P\n",
    "        \n",
    "    def run(self, A, B, P, Q, H, n_iter=-1):\n",
    "        dt = 0.1\n",
    "        for i, gt_pose in enumerate(tqdm(self.vo.gt_poses[:n_iter], unit=\"poses\")):\n",
    "            # Get VO control input velocity\n",
    "            if i < 1:\n",
    "                cur_pose = self.vo.gt_poses[0]\n",
    "                delta_x = cur_pose[0, 3]\n",
    "                delta_y = cur_pose[2, 3]\n",
    "                self.pose_vo.append(cur_pose[:3,3])\n",
    "            else:\n",
    "                transf = self.vo.get_pose(i)\n",
    "                old_pose = np.copy(cur_pose)\n",
    "                cur_pose = np.matmul(cur_pose, transf)\n",
    "                self.pose_vo.append(1.5*cur_pose[:3,3])\n",
    "                # print(cur_pose)\n",
    "                delta_x, delta_z, delta_y = 1.5*(cur_pose[:3, 3] - (old_pose[:3, 3]))\n",
    "            x_vo_velocity = delta_x/dt\n",
    "            y_vo_velocity = delta_y/dt\n",
    "            # print(\"X_vel\", x_vo_velocity)\n",
    "            # print(x_vo_velocity, self.data.oxts[i].packet.vf, self.data.oxts[i].packet.vl)\n",
    "            u = np.array([ \n",
    "                0,\n",
    "                0,\n",
    "                x_vo_velocity, #+ 0.2*self.data.oxts[i].packet.vn\n",
    "                y_vo_velocity\n",
    "            ])\n",
    "            # print(\"Iteration\", i)\n",
    "            #\n",
    "            self.pred_state, predicted_P = self.predict(A, B, u, P, Q)\n",
    "            z, R = self.getOXTSMeasurement(i, H)\n",
    "            self.pose_gt_w_cutout.append(z[:2])\n",
    "            K = self.calc_gain(predicted_P, H, R)\n",
    "\n",
    "            # print(\"z:\", z, \"predicted_X\", self.pred_state)\n",
    "\n",
    "            self.state, P = self.update(K, z, H, predicted_P)\n",
    "            if self.use_smoothing:\n",
    "                self.state = self.get_smoothed_est(self.state, i)\n",
    "            # print(\"Update_x:\", self.state, \"GT:\", self.getGPS(i))\n",
    "            \n",
    "            self.pose_est.append(self.state)\n",
    "            gt_t = gt_pose[:3, 3]\n",
    "            gt_t = R_oxts_cam @ gt_t\n",
    "            self.pose_gt.append(gt_t)\n",
    "            # self.pose_gt.append(self.getGPS(i))\n",
    "        self.pose_est = np.array(self.pose_est)\n",
    "        self.pose_gt = np.array(self.pose_gt)\n",
    "        self.pose_vo = np.array(self.pose_vo)\n",
    "        self.pose_gt_w_cutout = np.array(self.pose_gt_w_cutout)\n",
    "    def plot_res(self, vis_cutout):\n",
    "        if vis_cutout:\n",
    "            plt.plot(self.pose_gt_w_cutout[:,0], self.pose_gt_w_cutout[:,1], label=\"GT_w_cutout\", color='red')\n",
    "        plt.plot(self.pose_est[:,0], self.pose_est[:,1], label=\"KF Estimates\", color='blue')\n",
    "        plt.plot(self.pose_gt[:,0], self.pose_gt[:,1], label=\"GT\", color='orange')\n",
    "        plt.plot(self.pose_vo[:,0], self.pose_vo[:,2], label=\"VO\", color='green')\n",
    "        plt.legend()\n",
    "        plt.show()\n",
    "    def get_metrics(self):\n",
    "        avg_error = np.mean(self.pose_est[:,0]-self.pose_gt[:,0])\n",
    "        print(f\"Average Error: {avg_error}\")\n",
    "        avg_cutout_error = np.sum(np.array([x[0] for x in self.pose_est[self.cutout_region]]) - np.array([x[0] for x in self.pose_gt[self.cutout_region]]))/len(self.cutout_region)\n",
    "        print(f\"Average Error in cutout: {avg_cutout_error}\")\n",
    "        return avg_error\n",
    "\n",
    "    def run_default(self, n_iter=-1):\n",
    "        dt = 0.1\n",
    "        A = np.array([\n",
    "            [1, 0, dt, 0],\n",
    "            [0, 1, 0, dt],\n",
    "            [0, 0, 1, 0],\n",
    "            [0, 0, 0, 1]\n",
    "        ])\n",
    "        B = np.array([ \n",
    "            [0, 0, dt, 0],\n",
    "            [0, 0, 0, dt],\n",
    "            [0, 0, 1, 0],\n",
    "            [0, 0, 0, 1]\n",
    "        ])\n",
    "        A[:,2:] *=0.5\n",
    "        B[:,2:] *=0.5\n",
    "\n",
    "        P = np.diag([10,10,10,10])\n",
    "        Q = np.diag([1,1,1,1])\n",
    "        H = np.diag([1,1,1,1])\n",
    "        self.run(A, B, P, Q, H, n_iter)"
   ]
  },
  {
   "cell_type": "code",
   "execution_count": 55,
   "metadata": {},
   "outputs": [
    {
     "name": "stderr",
     "output_type": "stream",
     "text": [
      "  0%|          | 0/200 [00:00<?, ?poses/s]C:\\Users\\Bhargav\\AppData\\Local\\Temp\\ipykernel_13088\\555812184.py:82: RuntimeWarning: invalid value encountered in true_divide\n",
      "  K = numerator/denominator\n",
      "100%|██████████| 200/200 [01:28<00:00,  2.26poses/s]\n"
     ]
    }
   ],
   "source": [
    "data = load_data('2011_10_03', '0027')\n",
    "# data = load_data('2011_09_26', '0001')\n",
    "\n",
    "start_vec = np.array([0, 0, 0, 0])\n",
    "positions = []\n",
    "gt_positions = []\n",
    "kf = SensorFusion(start_vec, data)\n",
    "kf.setCutout(80,150)\n",
    "kf.setCutoutVar(10)\n",
    "n_iter = 200\n",
    "kf.run_default(n_iter)"
   ]
  },
  {
   "cell_type": "code",
   "execution_count": 56,
   "metadata": {},
   "outputs": [
    {
     "data": {
      "image/png": "[encoded data removed]",
      "text/plain": [
       "<Figure size 432x288 with 1 Axes>"
      ]
     },
     "metadata": {
      "needs_background": "light"
     },
     "output_type": "display_data"
    }
   ],
   "source": [
    "kf.plot_res(False)\n"
   ]
  },
  {
   "cell_type": "code",
   "execution_count": 57,
   "metadata": {},
   "outputs": [
    {
     "data": {
      "image/png": "[encoded data removed]",
      "text/plain": [
       "<Figure size 432x288 with 1 Axes>"
      ]
     },
     "metadata": {
      "needs_background": "light"
     },
     "output_type": "display_data"
    }
   ],
   "source": [
    "plt.plot(kf.pose_est[:,0], kf.pose_est[:,1], label=\"KF Estimates\")\n",
    "plt.plot(kf.pose_gt[:,0], kf.pose_gt[:,1], label=\"GT\")\n",
    "plt.plot(kf.pose_vo[:,0], kf.pose_vo[:,2], label=\"VO\")\n",
    "# plt.plot(kf.pose_gt_w_cutout[:,0], kf.pose_gt_w_cutout[:,1], label=\"GT_w_cutout\")\n",
    "plt.legend()\n",
    "plt.show()"
   ]
  },
  {
   "cell_type": "code",
   "execution_count": 58,
   "metadata": {},
   "outputs": [
    {
     "data": {
      "image/png": "[encoded data removed]",
      "text/plain": [
       "<Figure size 432x288 with 1 Axes>"
      ]
     },
     "metadata": {
      "needs_background": "light"
     },
     "output_type": "display_data"
    }
   ],
   "source": [
    "plt.plot(np.sqrt(np.abs(kf.pose_gt[:,0]-kf.pose_est[:,0])**2+np.abs(kf.pose_gt[:,1]-kf.pose_est[:,1])**2), label=\"Error\")\n",
    "plt.plot(np.sqrt(np.abs(kf.pose_gt_w_cutout[:,0]-kf.pose_est[:,0])**2+np.abs(kf.pose_gt_w_cutout[:,1]-kf.pose_est[:,1])**2), label=\"GT with Cutout Error\")\n",
    "plt.plot(np.sqrt(np.abs(kf.pose_gt[:1000,0]-kf.pose_vo[:,0])**2+np.abs(kf.pose_gt[:1000,1]-kf.pose_vo[:,1])**2), label=\"VO Error\")\n",
    "\n",
    "plt.legend()\n",
    "plt.show()"
   ]
  },
  {
   "cell_type": "code",
   "execution_count": 15,
   "metadata": {},
   "outputs": [
    {
     "data": {
      "image/png": "[encoded data removed]",
      "text/plain": [
       "<Figure size 432x288 with 2 Axes>"
      ]
     },
     "metadata": {
      "needs_background": "light"
     },
     "output_type": "display_data"
    }
   ],
   "source": [
    "import numpy as np\n",
    "from scipy.signal import butter, lfilter, freqz\n",
    "import matplotlib.pyplot as plt\n",
    "from numpy import zeros\n",
    "\n",
    "def butter_lowpass(cutoff, fs, order=5):\n",
    "    nyq = 0.5 * fs\n",
    "    normal_cutoff = cutoff / nyq\n",
    "    b, a = butter(order, normal_cutoff, btype='low', analog=False)\n",
    "    return b, a\n",
    "\n",
    "def butter_lowpass_filter(data, cutoff, fs, order=5):\n",
    "    b, a = butter_lowpass(cutoff, fs, order=order)\n",
    "    y = lfilter(b, a, data)\n",
    "    return y\n",
    "\n",
    "\n",
    "# Setting standard filter requirements.\n",
    "order = 6\n",
    "fs = 30.0       \n",
    "cutoff = 3.667  \n",
    "\n",
    "b, a = butter_lowpass(cutoff, fs, order)\n",
    "\n",
    "# Plotting the frequency response.\n",
    "w, h = freqz(b, a, worN=8000)\n",
    "plt.subplot(2, 1, 1)\n",
    "plt.plot(0.5*fs*w/np.pi, np.abs(h), 'b')\n",
    "plt.plot(cutoff, 0.5*np.sqrt(2), 'ko')\n",
    "plt.axvline(cutoff, color='k')\n",
    "plt.xlim(0, 0.5*fs)\n",
    "plt.title(\"Lowpass Filter Frequency Response\")\n",
    "plt.xlabel('Frequency [Hz]')\n",
    "plt.grid()\n",
    "\n",
    "\n",
    "# Creating the data for filteration\n",
    "T = 1.0         # value taken in seconds\n",
    "n = int(T * fs) # indicates total samples\n",
    "t = np.linspace(0, T, n, endpoint=False)\n",
    "\n",
    "# data = np.sin(1.2*2*np.pi*t) + 1.5*np.cos(9*2*np.pi*t) + 0.5*np.sin(12.0*2*np.pi*t)\n",
    "data = kf.pose_gt_w_cutout[:,0]\n",
    "datay = kf.pose_gt_w_cutout[:,1]\n",
    "\n",
    "# Filtering and plotting\n",
    "# y = butter_lowpass_filter(data, cutoff, fs, order)\n",
    "b = signal.firwin(20, 0.0004)\n",
    "z = zeros(b.size-1)\n",
    "z2 = z.copy()\n",
    "result1 = np.zeros(len(data))\n",
    "result2 = np.zeros(len(data))\n",
    "for i, (x, y) in enumerate(zip(data, datay)):\n",
    "    result1[i], z = signal.lfilter(b, 1, [x], zi=z)\n",
    "    result2[i], z2 = signal.lfilter(b, 1, [y], zi=z2)\n",
    "\n",
    "plt.subplot(2, 1, 2)\n",
    "# plt.plot(data,datay, 'b-', label='data')\n",
    "# plt.plot(t, y, 'g-', linewidth=2, label='filtered data')\n",
    "plt.plot(result1, result2, 'r-', linewidth=2, label='filtered data2')\n",
    "plt.plot(kf.pose_gt[:,0], kf.pose_gt[:,1], label=\"GT\")\n",
    "plt.xlabel('Time [sec]')\n",
    "plt.grid()\n",
    "plt.legend()\n",
    "\n",
    "plt.subplots_adjust(hspace=0.35)\n",
    "plt.show()"
   ]
  },
  {
   "cell_type": "code",
   "execution_count": 16,
   "metadata": {},
   "outputs": [
    {
     "ename": "SyntaxError",
     "evalue": "invalid syntax (2374862444.py, line 22)",
     "output_type": "error",
     "traceback": [
      "\u001b[1;36m  Input \u001b[1;32mIn [16]\u001b[1;36m\u001b[0m\n\u001b[1;33m    plt.plot(data, label=)\u001b[0m\n\u001b[1;37m                         ^\u001b[0m\n\u001b[1;31mSyntaxError\u001b[0m\u001b[1;31m:\u001b[0m invalid syntax\n"
     ]
    }
   ],
   "source": [
    "from scipy import signal, random\n",
    "from numpy import zeros\n",
    "\n",
    "def filter_sbs(data, b):\n",
    "    z = zeros(b.size-1)\n",
    "    result = zeros(data.size)\n",
    "    for i, x in enumerate(data):\n",
    "        result[i], z = signal.lfilter(b, 1, [x], zi=z)\n",
    "    return result\n",
    "    \n",
    "def filter(data, b):\n",
    "    result = signal.lfilter(b,1,data)\n",
    "    return result\n",
    "\n",
    "if __name__ == '__main__':\n",
    "    data = random.random(20000)\n",
    "    \n",
    "    b = signal.firwin(150, 0.004)\n",
    "    result1 = filter_sbs(data, b)\n",
    "    result2 = filter(data, b)\n",
    "    print(result1 - result2)\n",
    "    plt.plot(data, label=)\n",
    "    plt.plot(result1)\n",
    "    plt.show()"
   ]
  },
  {
   "cell_type": "code",
   "execution_count": null,
   "metadata": {},
   "outputs": [],
   "source": [
    "%matplotlib inline"
   ]
  },
  {
   "cell_type": "code",
   "execution_count": null,
   "metadata": {},
   "outputs": [],
   "source": []
  }
 ],
 "metadata": {
  "interpreter": {
   "hash": "232d62e683e1e2159519dd05db360eac9f8a2810ce501cd104c1c2bda3ae703f"
  },
  "kernelspec": {
   "display_name": "Python 3.9.12 ('mp_final')",
   "language": "python",
   "name": "python3"
  },
  "language_info": {
   "codemirror_mode": {
    "name": "ipython",
    "version": 3
   },
   "file_extension": ".py",
   "mimetype": "text/x-python",
   "name": "python",
   "nbconvert_exporter": "python",
   "pygments_lexer": "ipython3",
   "version": "3.9.12"
  },
  "orig_nbformat": 4
 },
 "nbformat": 4,
 "nbformat_minor": 2
}
