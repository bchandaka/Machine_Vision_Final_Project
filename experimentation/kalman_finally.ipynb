{
 "cells": [
  {
   "cell_type": "code",
   "execution_count": 65,
   "metadata": {},
   "outputs": [],
   "source": [
    "import numpy as np\n",
    "from numpy.linalg import inv\n",
    "import matplotlib.pyplot as plt\n",
    "import pykitti\n",
    "from scipy.spatial.transform import Rotation as R\n",
    "import sys\n",
    "sys.path.append('../')\n",
    "from vo_funcs import VisualOdometry\n",
    "from tqdm import tqdm\n",
    "DATA_DIR = '../data' \n",
    "degree = 30\n",
    "R_oxts_cam = np.array(R.from_euler('z', degree, degrees=True).as_matrix())\n",
    "%matplotlib inline"
   ]
  },
  {
   "cell_type": "code",
   "execution_count": 2,
   "metadata": {},
   "outputs": [],
   "source": [
    "def load_data(date, drive):\n",
    "    data = pykitti.raw(DATA_DIR, date, drive)\n",
    "    return data"
   ]
  },
  {
   "cell_type": "code",
   "execution_count": 66,
   "metadata": {},
   "outputs": [
    {
     "data": {
      "image/png": "[encoded data removed]",
      "text/plain": [
       "<Figure size 432x288 with 1 Axes>"
      ]
     },
     "metadata": {
      "needs_background": "light"
     },
     "output_type": "display_data"
    }
   ],
   "source": [
    "data = load_data('2011_10_03', '0027')\n",
    "# data = load_data('2011_09_26', '0001')\n",
    "x, y, z = [], [], []\n",
    "x_imu = []\n",
    "y_imu = []\n",
    "dt = 0.1\n",
    "R, t_start = pykitti.utils.pose_from_oxts_packet(data.oxts[0].packet, scale=1)\n",
    "# t_start = R_oxts_cam @ t_start\n",
    "for i in range(len(data.timestamps)):\n",
    "    R, t = pykitti.utils.pose_from_oxts_packet(data.oxts[i].packet, scale=1)\n",
    "    t -= t_start\n",
    "    t = R_oxts_cam @ t\n",
    "    x_vel = data.oxts[i].packet.ve\n",
    "    y_vel = data.oxts[i].packet.vn\n",
    "    x_vel, y_vel, z_vel = R_oxts_cam @ np.array([x_vel, y_vel, 0])\n",
    "    x_acc = data.oxts[i].packet.ax\n",
    "    y_acc = data.oxts[i].packet.ay\n",
    "    # print(t)\n",
    "    if len(x_imu) == 0:\n",
    "        x_imu.append(0)\n",
    "        y_imu.append(0)\n",
    "    else:\n",
    "        x_imu.append(t[0]+x_vel*dt) #+0.5*x_acc*dt**2)\n",
    "        y_imu.append(t[1]+y_vel*dt) #+0.5*y_acc*dt**2)\n",
    "        # x_imu.append(x_imu[i-1]+0.5*x_acc*dt**2)\n",
    "        # y_imu.append(y_imu[i-1]+0.5*y_acc*dt**2)\n",
    "    x.append(t[0])\n",
    "    y.append(t[1])\n",
    "    z.append(t[2])\n",
    "# plt.axes(projection='3d')\n",
    "# plt.plot(x[:200], y[:200])\n",
    "# plt.plot(x_imu[:200], y_imu[:200])\n",
    "plt.plot(x, y)\n",
    "plt.plot(x_imu, y_imu)\n",
    "plt.show()"
   ]
  },
  {
   "cell_type": "code",
   "execution_count": 4,
   "metadata": {},
   "outputs": [
    {
     "name": "stdout",
     "output_type": "stream",
     "text": [
      "4544\n",
      "4544\n"
     ]
    }
   ],
   "source": [
    "print(len(data.oxts))\n",
    "print(len(data.cam0_files))"
   ]
  },
  {
   "cell_type": "code",
   "execution_count": 5,
   "metadata": {},
   "outputs": [
    {
     "name": "stdout",
     "output_type": "stream",
     "text": [
      "[5.91181523139241, 5.99993947855496, 6.0880637257175, 6.17618797288005, 6.2643122200426, 6.35243646720515, 6.4405607143677, 6.52868496153025, 6.6168092086928, 6.70493345585535]\n"
     ]
    }
   ],
   "source": [
    "print([ i.packet.vn for i in data.oxts[:10]])"
   ]
  },
  {
   "cell_type": "code",
   "execution_count": 6,
   "metadata": {},
   "outputs": [
    {
     "name": "stdout",
     "output_type": "stream",
     "text": [
      "[0.58423359 0.58423359 0.58423359 0.58423359 0.58423359 0.58423359\n",
      " 0.58423359 0.58423359 0.58423359]\n"
     ]
    }
   ],
   "source": [
    "print(np.array(x[1:10])-np.array(x[:9]))"
   ]
  },
  {
   "cell_type": "code",
   "execution_count": 7,
   "metadata": {},
   "outputs": [
    {
     "name": "stdout",
     "output_type": "stream",
     "text": [
      "[1.3026404235734301, 1.2818228622644852, 1.2610053009555402, 1.2401877396465952, 1.21937017833765, 1.198552617028705, 1.1777350557197601, 1.1569174944108152, 1.13609993310187, 1.115282371792925]\n"
     ]
    }
   ],
   "source": [
    "print([ i.packet.au*0.1 for i in data.oxts[:10]])"
   ]
  },
  {
   "cell_type": "code",
   "execution_count": 59,
   "metadata": {},
   "outputs": [],
   "source": [
    "class SensorFusion():\n",
    "    def __init__(self, start_state, data: pykitti.raw, cutout_region=list(range(10,20))):\n",
    "        self.data = data\n",
    "        _, self.t_start = pykitti.utils.pose_from_oxts_packet(data.oxts[0].packet, scale=1)\n",
    "        self.state = start_state\n",
    "        self.pred_state = np.zeros(len(start_state))\n",
    "        self.cutout_region = cutout_region\n",
    "        self.vo = VisualOdometry(data)\n",
    "        self.pose_est = [self.state]\n",
    "        self.pose_gt = [self.getGPS(0)]\n",
    "        self.pose_vo = [[0,0,0]]\n",
    "\n",
    "    def getOXTSMeasurement(self, index, H):\n",
    "        t = self.getGPS(index)\n",
    "\n",
    "        x, y, z = t[:3]\n",
    "        x_vel = data.oxts[i].packet.ve\n",
    "        y_vel = data.oxts[i].packet.vn\n",
    "        x_vel, y_vel, z_vel = R_oxts_cam @ np.array([x_vel, y_vel, 0])\n",
    "        \n",
    "        pos_uncertainty = data.oxts[index].packet.pos_accuracy\n",
    "        vel_uncertainty = data.oxts[index].packet.vel_accuracy\n",
    "\n",
    "        R = np.array([\n",
    "            [pos_uncertainty**2, 0],\n",
    "            [0, vel_uncertainty**2]\n",
    "        ])\n",
    "        if index in self.cutout_region:\n",
    "            pos_sigma = 100 # meters\n",
    "            R = np.array([ \n",
    "                [pos_sigma**2, 0],\n",
    "                [0, vel_uncertainty**2]\n",
    "            ])\n",
    "            return H @ np.array([x+ np.random.normal(0, pos_sigma), x_vel]), R\n",
    "        return H @ np.array([x, x_vel]), R\n",
    "\n",
    "    def getGPS(self, index):\n",
    "        R, t = pykitti.utils.pose_from_oxts_packet(self.data.oxts[index].packet, scale=1)\n",
    "        t -= self.t_start\n",
    "        t = R_oxts_cam @ t\n",
    "        return t\n",
    "\n",
    "    def predict(self, A, B, u, P, Q):\n",
    "        predicted_X = A @ self.state + B @ u\n",
    "        predicted_P = A @ P @ A.T + Q\n",
    "        return predicted_X, predicted_P\n",
    "\n",
    "    def calc_gain(self, P, H, R):\n",
    "        numerator = P@H.T\n",
    "        denominator = H@P@H.T + R\n",
    "        K = numerator/denominator\n",
    "        # print(K)\n",
    "        K[0,1] = 0\n",
    "        K[1,0] = 0\n",
    "        return K\n",
    "\n",
    "    def update(self, K, z, H, P):\n",
    "        # print(K)\n",
    "        updated_X = self.pred_state + K @ (z - H@self.pred_state)\n",
    "        n = len(K@H)\n",
    "        updated_P = (np.eye(n)-K@H)@P\n",
    "        return updated_X, updated_P\n",
    "        \n",
    "    def run(self, n_iter, A, B, P, Q, H):\n",
    "        dt = 0.1\n",
    "        for i, gt_pose in enumerate(tqdm(self.vo.gt_poses[:n_iter], unit=\"poses\")):\n",
    "            # Get VO control input velocity\n",
    "            if i < 1:\n",
    "                cur_pose = self.vo.gt_poses[0]\n",
    "                delta_x = cur_pose[0, 3]\n",
    "            else:\n",
    "                transf = self.vo.get_pose(i)\n",
    "                old_pose = np.copy(cur_pose)\n",
    "                cur_pose = np.matmul(cur_pose, transf)\n",
    "                self.pose_vo.append(list(R_cam_oxts @ cur_pose[:3,3]))\n",
    "                # print(cur_pose)\n",
    "                delta_x, delta_y, delta_z = (cur_pose[:3, 3] - (old_pose[:3, 3]))\n",
    "            x_vo_velocity = delta_x/dt\n",
    "            # print(\"X_vel\", x_vo_velocity)\n",
    "            # print(x_vo_velocity, self.data.oxts[i].packet.vf, self.data.oxts[i].packet.vl)\n",
    "            u = np.array([ \n",
    "                0,\n",
    "                x_vo_velocity #+ 0.2*self.data.oxts[i].packet.vn\n",
    "            ])\n",
    "            # print(\"Iteration\", i)\n",
    "            #\n",
    "            self.pred_state, predicted_P = self.predict(A, B, u, P, Q)\n",
    "            z, R = self.getOXTSMeasurement(i, H)\n",
    "            K = self.calc_gain(predicted_P, H, R)\n",
    "\n",
    "            # print(\"z:\", z, \"predicted_X\", self.pred_state)\n",
    "\n",
    "            self.state, P = self.update(K, z, H, predicted_P)\n",
    "\n",
    "            # print(\"Update_x:\", self.state, \"GT:\", self.getGPS(i))\n",
    "            \n",
    "            self.pose_est.append(self.state)\n",
    "            self.pose_gt.append(self.getGPS(i))\n",
    "        self.pose_est = np.array(self.pose_est)\n",
    "        self.pose_gt = np.array(self.pose_gt)\n",
    "        self.pose_vo = np.array(self.pose_vo)\n",
    "    def plot_res(self):\n",
    "        plt.plot(self.pose_est[:,0], label=\"KF Estimates\")\n",
    "        plt.plot(self.pose_gt[:,0], label=\"GT\")\n",
    "        plt.plot(self.pose_vo[:,0], label=\"VO\")\n",
    "        plt.legend()\n",
    "        plt.show()\n",
    "    def get_metrics(self):\n",
    "        avg_error = np.mean(self.pose_est[:,0]-self.pose_gt[:,0])\n",
    "        print(f\"Average Error: {avg_error}\")\n",
    "        avg_cutout_error = np.sum(np.array([x[0] for x in self.pose_est[self.cutout_region]]) - np.array([x[0] for x in self.pose_gt[self.cutout_region]]))/len(self.cutout_region)\n",
    "        print(f\"Average Error in cutout: {avg_cutout_error}\")\n",
    "        return avg_error\n",
    "    def simulateCutout(startInd, endInd):\n",
    "        pass"
   ]
  },
  {
   "cell_type": "code",
   "execution_count": 60,
   "metadata": {},
   "outputs": [],
   "source": [
    "dt = 0.1\n",
    "A = np.array([\n",
    "    [1, 0],\n",
    "    [0, 0]\n",
    "])\n",
    "B = np.array([ \n",
    "    [0,dt],\n",
    "    [0,0]\n",
    "])\n",
    "P = np.array([\n",
    "    [10, 0],\n",
    "    [0, 10]\n",
    "])\n",
    "Q = np.array([\n",
    "    [1, 0],\n",
    "    [0, 1]\n",
    "])\n",
    "H = np.array([\n",
    "    [1, 0],\n",
    "    [0, 1]\n",
    "])"
   ]
  },
  {
   "cell_type": "code",
   "execution_count": 61,
   "metadata": {},
   "outputs": [
    {
     "name": "stderr",
     "output_type": "stream",
     "text": [
      "  0%|          | 0/20 [00:00<?, ?poses/s]C:\\Users\\Bhargav\\AppData\\Local\\Temp\\ipykernel_24876\\833512770.py:51: RuntimeWarning: invalid value encountered in true_divide\n",
      "  K = numerator/denominator\n",
      "100%|██████████| 20/20 [00:09<00:00,  2.22poses/s]\n"
     ]
    }
   ],
   "source": [
    "# data = load_data('2011_10_03', '0027')\n",
    "data = load_data('2011_09_26', '0001')\n",
    "\n",
    "start_vec = np.array([0, 0])\n",
    "positions = []\n",
    "gt_positions = []\n",
    "kf = SensorFusion(start_vec, data)\n",
    "n_iter = 20\n",
    "kf.run(n_iter, A, B, P, Q, H)"
   ]
  },
  {
   "cell_type": "code",
   "execution_count": 62,
   "metadata": {},
   "outputs": [
    {
     "data": {
      "image/png": "[encoded data removed]",
      "text/plain": [
       "<Figure size 432x288 with 1 Axes>"
      ]
     },
     "metadata": {
      "needs_background": "light"
     },
     "output_type": "display_data"
    }
   ],
   "source": [
    "kf.plot_res()"
   ]
  },
  {
   "cell_type": "code",
   "execution_count": null,
   "metadata": {},
   "outputs": [
    {
     "name": "stdout",
     "output_type": "stream",
     "text": [
      "Average Error: 0.6665670017232448\n"
     ]
    },
    {
     "ename": "TypeError",
     "evalue": "list indices must be integers or slices, not list",
     "output_type": "error",
     "traceback": [
      "\u001b[1;31m---------------------------------------------------------------------------\u001b[0m",
      "\u001b[1;31mTypeError\u001b[0m                                 Traceback (most recent call last)",
      "\u001b[1;32mc:\\Users\\Bhargav\\coursework\\cs498_m_vision\\Machine_Vision_Final_Project\\experimentation\\kalman_finally.ipynb Cell 8'\u001b[0m in \u001b[0;36m<cell line: 1>\u001b[1;34m()\u001b[0m\n\u001b[1;32m----> <a href='vscode-notebook-cell:/c%3A/Users/Bhargav/coursework/cs498_m_vision/Machine_Vision_Final_Project/experimentation/kalman_finally.ipynb#ch0000005?line=0'>1</a>\u001b[0m kf\u001b[39m.\u001b[39;49mget_metrics()\n",
      "\u001b[1;32mc:\\Users\\Bhargav\\coursework\\cs498_m_vision\\Machine_Vision_Final_Project\\experimentation\\kalman_finally.ipynb Cell 4'\u001b[0m in \u001b[0;36mKalmanFilter.get_metrics\u001b[1;34m(self)\u001b[0m\n\u001b[0;32m    <a href='vscode-notebook-cell:/c%3A/Users/Bhargav/coursework/cs498_m_vision/Machine_Vision_Final_Project/experimentation/kalman_finally.ipynb#ch0000002?line=99'>100</a>\u001b[0m avg_error \u001b[39m=\u001b[39m np\u001b[39m.\u001b[39msum(np\u001b[39m.\u001b[39marray([x[\u001b[39m0\u001b[39m] \u001b[39mfor\u001b[39;00m x \u001b[39min\u001b[39;00m \u001b[39mself\u001b[39m\u001b[39m.\u001b[39mpose_est]) \u001b[39m-\u001b[39m np\u001b[39m.\u001b[39marray([x[\u001b[39m0\u001b[39m] \u001b[39mfor\u001b[39;00m x \u001b[39min\u001b[39;00m \u001b[39mself\u001b[39m\u001b[39m.\u001b[39mpose_gt]))\u001b[39m/\u001b[39m\u001b[39mlen\u001b[39m(\u001b[39mself\u001b[39m\u001b[39m.\u001b[39mpose_est)\n\u001b[0;32m    <a href='vscode-notebook-cell:/c%3A/Users/Bhargav/coursework/cs498_m_vision/Machine_Vision_Final_Project/experimentation/kalman_finally.ipynb#ch0000002?line=100'>101</a>\u001b[0m \u001b[39mprint\u001b[39m(\u001b[39mf\u001b[39m\u001b[39m\"\u001b[39m\u001b[39mAverage Error: \u001b[39m\u001b[39m{\u001b[39;00mavg_error\u001b[39m}\u001b[39;00m\u001b[39m\"\u001b[39m)\n\u001b[1;32m--> <a href='vscode-notebook-cell:/c%3A/Users/Bhargav/coursework/cs498_m_vision/Machine_Vision_Final_Project/experimentation/kalman_finally.ipynb#ch0000002?line=101'>102</a>\u001b[0m avg_cutout_error \u001b[39m=\u001b[39m np\u001b[39m.\u001b[39msum(np\u001b[39m.\u001b[39marray([x[\u001b[39m0\u001b[39m] \u001b[39mfor\u001b[39;00m x \u001b[39min\u001b[39;00m \u001b[39mself\u001b[39;49m\u001b[39m.\u001b[39;49mpose_est[\u001b[39mself\u001b[39;49m\u001b[39m.\u001b[39;49mcutout_region]]) \u001b[39m-\u001b[39m np\u001b[39m.\u001b[39marray([x[\u001b[39m0\u001b[39m] \u001b[39mfor\u001b[39;00m x \u001b[39min\u001b[39;00m \u001b[39mself\u001b[39m\u001b[39m.\u001b[39mpose_gt[\u001b[39mself\u001b[39m\u001b[39m.\u001b[39mcutout_region]]))\u001b[39m/\u001b[39m\u001b[39mlen\u001b[39m(\u001b[39mself\u001b[39m\u001b[39m.\u001b[39mcutout_region)\n\u001b[0;32m    <a href='vscode-notebook-cell:/c%3A/Users/Bhargav/coursework/cs498_m_vision/Machine_Vision_Final_Project/experimentation/kalman_finally.ipynb#ch0000002?line=102'>103</a>\u001b[0m \u001b[39mprint\u001b[39m(\u001b[39mf\u001b[39m\u001b[39m\"\u001b[39m\u001b[39mAverage Error in cutout: \u001b[39m\u001b[39m{\u001b[39;00mavg_cutout_error\u001b[39m}\u001b[39;00m\u001b[39m\"\u001b[39m)\n\u001b[0;32m    <a href='vscode-notebook-cell:/c%3A/Users/Bhargav/coursework/cs498_m_vision/Machine_Vision_Final_Project/experimentation/kalman_finally.ipynb#ch0000002?line=103'>104</a>\u001b[0m \u001b[39mreturn\u001b[39;00m avg_error\n",
      "\u001b[1;31mTypeError\u001b[0m: list indices must be integers or slices, not list"
     ]
    }
   ],
   "source": [
    "kf.get_metrics()"
   ]
  },
  {
   "cell_type": "code",
   "execution_count": null,
   "metadata": {},
   "outputs": [],
   "source": []
  },
  {
   "cell_type": "code",
   "execution_count": 53,
   "metadata": {},
   "outputs": [
    {
     "data": {
      "text/plain": [
       "array([array([0, 0]),\n",
       "       list([0.00273652462875789, 0.05302198854123126, 1.424369016103062]),\n",
       "       list([0.06176533134522323, 0.119986086392283, 2.8328604949216034]),\n",
       "       list([0.033399543100627024, 0.15838722994283197, 4.185491802318585]),\n",
       "       list([0.017731550993456663, 0.19831631449592585, 5.532893941075817]),\n",
       "       list([-0.011147808869152814, 0.2558527719719878, 6.879123552697051]),\n",
       "       list([-0.0629730785928743, 0.28458347854841703, 8.179501145884378]),\n",
       "       list([-0.10927877190487532, 0.3360442736055096, 9.469396874342316]),\n",
       "       list([-0.15177383593797358, 0.3801854782198642, 10.784295528183307]),\n",
       "       list([-0.16463016846740383, 0.43645500975144225, 12.116317029656273]),\n",
       "       list([-0.19154327857060507, 0.48067408798334166, 13.41981675550872]),\n",
       "       list([-0.2492621219013386, 0.5345618856158396, 14.725926079508836]),\n",
       "       list([-0.2726884110113107, 0.5867146488133748, 16.061703246728893]),\n",
       "       list([-0.30763462095490174, 0.6374188542069955, 17.316699744760793]),\n",
       "       list([-0.33956582249080114, 0.6668081208946757, 18.627882832903875]),\n",
       "       list([-0.40240751646941264, 0.7219297227085462, 19.839352889229552]),\n",
       "       list([-0.47242727236934984, 0.7644700551967424, 21.089916362643315]),\n",
       "       list([-0.5408197505400509, 0.8272644506081552, 22.353667612895045]),\n",
       "       list([-0.6313140635752705, 0.8846759375022596, 23.572659133796964]),\n",
       "       list([-0.6984263859803759, 0.9281817504363099, 24.825088792483527])],\n",
       "      dtype=object)"
      ]
     },
     "execution_count": 53,
     "metadata": {},
     "output_type": "execute_result"
    }
   ],
   "source": [
    "kf.pose_vo"
   ]
  },
  {
   "cell_type": "code",
   "execution_count": null,
   "metadata": {},
   "outputs": [],
   "source": []
  }
 ],
 "metadata": {
  "interpreter": {
   "hash": "232d62e683e1e2159519dd05db360eac9f8a2810ce501cd104c1c2bda3ae703f"
  },
  "kernelspec": {
   "display_name": "Python 3.9.12 ('mp_final')",
   "language": "python",
   "name": "python3"
  },
  "language_info": {
   "codemirror_mode": {
    "name": "ipython",
    "version": 3
   },
   "file_extension": ".py",
   "mimetype": "text/x-python",
   "name": "python",
   "nbconvert_exporter": "python",
   "pygments_lexer": "ipython3",
   "version": "3.9.12"
  },
  "orig_nbformat": 4
 },
 "nbformat": 4,
 "nbformat_minor": 2
}
